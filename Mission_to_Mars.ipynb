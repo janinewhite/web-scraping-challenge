{
 "cells": [
  {
   "cell_type": "code",
   "execution_count": 137,
   "metadata": {
    "ExecuteTime": {
     "end_time": "2019-11-17T19:52:35.587098Z",
     "start_time": "2019-11-17T19:52:35.583132Z"
    },
    "scrolled": false
   },
   "outputs": [],
   "source": [
    "# Dependencies\n",
    "from splinter import Browser\n",
    "from bs4 import BeautifulSoup\n",
    "import requests\n",
    "import pymongo\n",
    "import pandas as pd\n",
    "from datetime import datetime\n",
    "import config as cfg\n",
    "import tweepy as tw\n",
    "import json"
   ]
  },
  {
   "cell_type": "code",
   "execution_count": 44,
   "metadata": {
    "ExecuteTime": {
     "end_time": "2019-11-17T17:36:35.717420Z",
     "start_time": "2019-11-17T17:36:35.711435Z"
    },
    "scrolled": false
   },
   "outputs": [],
   "source": [
    "# Constants\n",
    "chrome_path = \"C:/Users/janin/OneDrive/Documents/GitHub/chromedriver.exe\"\n",
    "mars_sites = [{\"Name\":\"NASA Mars Explorer News\",\n",
    "               \"URL\":\"https://mars.nasa.gov/news/?page=0&per_page=40&order=publish_date+desc%2Ccreated_at+desc&search=&category=19%2C165%2C184%2C204&blank_scope=Latest\",\n",
    "               \"Type\":\"News\",\n",
    "               \"Link Stem\":\"https://mars.nasa.gov\"\n",
    "              },\n",
    "              {\"Name\":\"JPL Mars Images\",\n",
    "               \"URL\":\"https://www.jpl.nasa.gov/spaceimages/?search=&category=Mars\",\n",
    "               \"Type\":\"Featured Image\",\n",
    "               \"Link Stem\":\"https://www.jpl.nasa.gov\"\n",
    "              },\n",
    "              {\"Name\":\"Mars Weather\",\n",
    "               \"URL\":\"https://twitter.com/marswxreport?lang=en\",\n",
    "               \"Type\":\"Weather\"\n",
    "              },\n",
    "              {\"Name\":\"Mars Facts\",\n",
    "               \"URL\":\"https://space-facts.com/mars/\",\n",
    "               \"Type\":\"Facts\"\n",
    "              },\n",
    "              {\"Name\":\"Mars Hemispheres\",\n",
    "               \"URL\":\"https://astrogeology.usgs.gov/search/results?q=hemisphere+enhanced&k1=target&v1=Mars\",\n",
    "               \"Type\":\"Hemispheres\"\n",
    "              }]"
   ]
  },
  {
   "cell_type": "code",
   "execution_count": 45,
   "metadata": {
    "ExecuteTime": {
     "end_time": "2019-11-17T17:36:36.368208Z",
     "start_time": "2019-11-17T17:36:36.364046Z"
    },
    "scrolled": true
   },
   "outputs": [],
   "source": [
    "def init_browser():\n",
    "    executable_path = {\"executable_path\": chrome_path}\n",
    "    return Browser(\"chrome\", **executable_path, headless=False)"
   ]
  },
  {
   "cell_type": "code",
   "execution_count": 46,
   "metadata": {
    "ExecuteTime": {
     "end_time": "2019-11-17T17:36:37.099492Z",
     "start_time": "2019-11-17T17:36:37.095997Z"
    },
    "scrolled": true
   },
   "outputs": [],
   "source": [
    "def get_page(url):\n",
    "    browser = init_browser()\n",
    "    browser.visit(url)\n",
    "    html = browser.html\n",
    "    return BeautifulSoup(html, \"html.parser\")"
   ]
  },
  {
   "cell_type": "code",
   "execution_count": 47,
   "metadata": {
    "ExecuteTime": {
     "end_time": "2019-11-17T17:36:37.935622Z",
     "start_time": "2019-11-17T17:36:37.928470Z"
    },
    "scrolled": true
   },
   "outputs": [],
   "source": [
    "def scrape_news(site):\n",
    "    print(\"News Article\")\n",
    "    print(\"____________\")\n",
    "    soup = get_page(site['URL'])\n",
    "    article = {}\n",
    "    articles = soup.find_all(\"div\",class_ = \"list_text\")\n",
    "    latest_date = datetime(2000, 1, 1, 0, 0)\n",
    "    article_url = \"\"\n",
    "    article_title = \"\"\n",
    "    description = \"\"\n",
    "    for article in articles:\n",
    "        date_text = article.find(\"div\",class_=\"list_date\").text\n",
    "        article_date = datetime.strptime(date_text,'%B %d, %Y')\n",
    "        if article_date > latest_date:\n",
    "            latest_date = article_date\n",
    "            print(article_date)\n",
    "            article_link = article.find(\"div\",class_=\"content_title\")\n",
    "            article_url = f\"{site['Link Stem']}{article_link.a['href']}\"\n",
    "            print(article_url)\n",
    "            article_title = article_link.a.text.replace('\\n','').strip()\n",
    "            print(article_title)\n",
    "            description = article.find(\"div\", class_ = \"article_teaser_body\")\n",
    "            article_description = description.text.strip()\n",
    "            print(article_description)\n",
    "    print(\"____________\")\n",
    "    article[\"Detail\"] = article_title\n",
    "    article[\"Detail URL\"] = article_url\n",
    "    article[\"Detail Description\"] = article_description\n",
    "    return article\n",
    "            "
   ]
  },
  {
   "cell_type": "code",
   "execution_count": 48,
   "metadata": {
    "ExecuteTime": {
     "end_time": "2019-11-17T17:36:38.809615Z",
     "start_time": "2019-11-17T17:36:38.805643Z"
    },
    "scrolled": true
   },
   "outputs": [],
   "source": [
    "def scrape_featured_image(site):\n",
    "    print(\"Featured Image\")\n",
    "    print(\"____________\")\n",
    "    soup = get_page(site['URL'])\n",
    "    article = {}\n",
    "    image = soup.find(\"article\",class_=\"carousel_item\")\n",
    "    print(image[\"alt\"])\n",
    "    image_style = image[\"style\"]\n",
    "    image_link = image_style[image_style.find(\"'\")+1:]\n",
    "    image_link = image_link[:image_link.find(\"'\")]\n",
    "    print(image_link)\n",
    "    article[\"Detail\"] = image[\"alt\"]\n",
    "    article[\"Detail URL\"] = f\"{site['Link Stem']}{image_link}\"\n",
    "    article[\"Detail Description\"] = \"Jet Propulsion Laboratory Featured Image\"\n",
    "    return article"
   ]
  },
  {
   "cell_type": "code",
   "execution_count": 250,
   "metadata": {
    "ExecuteTime": {
     "end_time": "2019-11-17T20:55:39.362098Z",
     "start_time": "2019-11-17T20:55:39.358107Z"
    }
   },
   "outputs": [],
   "source": [
    "def get_Twitter_API():\n",
    "    consumer_key = cfg.Twitter_Consumer_API_Key\n",
    "    consumer_secret = cfg.Twitter_Consumer_Secret_API_Key\n",
    "    access_token = cfg.Twitter_Access_Token\n",
    "    access_token_secret = cfg.Twitter_Access_Token_Secret\n",
    "    auth = tw.OAuthHandler(consumer_key, consumer_secret)\n",
    "    auth.set_access_token(access_token, access_token_secret) \n",
    "    api = tw.API(auth)\n",
    "    return api"
   ]
  },
  {
   "cell_type": "code",
   "execution_count": 251,
   "metadata": {
    "ExecuteTime": {
     "end_time": "2019-11-17T20:55:40.275104Z",
     "start_time": "2019-11-17T20:55:40.268704Z"
    },
    "scrolled": true
   },
   "outputs": [],
   "source": [
    "def get_Mars_weather():\n",
    "    print(\"Mars Weather\")\n",
    "    print(\"____________\")\n",
    "    # Use API to get latest Mars Weather tweet\n",
    "    api = get_Twitter_API()\n",
    "    status = api.user_timeline(\"MarsWxReport\",count=1,page=1)\n",
    "    #json_str = json.dumps(status[0]._json)\n",
    "    #parsed = json.loads(json_str)\n",
    "    #print(json.dumps(parsed, indent=4, sort_keys=True))\n",
    "    entities = status[0].entities\n",
    "    urls = dict(entities[\"urls\"][0])\n",
    "    last_tweet_url = \"\"\n",
    "    for key in urls.keys():\n",
    "        if key == \"expanded_url\":\n",
    "            last_tweet_url = urls[key]\n",
    "    print(last_tweet_url)\n",
    "    # Scrape text of latest tweet\n",
    "    soup = get_page(last_tweet_url)\n",
    "    tweet = soup.find(\"div\",class_=\"js-tweet-text-container\")\n",
    "    tweet_text = tweet.p.text.replace('\\n','').strip()\n",
    "    tweet_text = tweet_text[:(tweet_text.find(\"hPapic.twitter.com\")-1)]\n",
    "    print(tweet_text)\n",
    "    article = {}\n",
    "    article[\"Detail\"] = tweet_text\n",
    "    article[\"Detail URL\"] = last_tweet_url\n",
    "    article[\"Detail Description\"] = \"Mars Weather Tweet\"\n",
    "    return article"
   ]
  },
  {
   "cell_type": "code",
   "execution_count": 325,
   "metadata": {
    "ExecuteTime": {
     "end_time": "2019-11-17T22:01:45.692683Z",
     "start_time": "2019-11-17T22:01:45.686666Z"
    }
   },
   "outputs": [],
   "source": [
    "def scrape_facts(site):\n",
    "    print(\"Mars Facts\")\n",
    "    print(\"____________\")\n",
    "    soup = get_page(site['URL'])\n",
    "    table = soup.find(\"table\",class_=\"tablepress tablepress-id-p-mars\")\n",
    "    table_body = table.tbody\n",
    "    columns = table_body.find_all(\"td\")\n",
    "    descriptions = []\n",
    "    values = []\n",
    "    col_num = 0\n",
    "    for column in columns:\n",
    "        column_text = column.text\n",
    "        if (col_num % 2) == 0:\n",
    "            column_text = column_text[0:(len(column_text)-1)]\n",
    "            descriptions.append(column_text)\n",
    "        else:\n",
    "            values.append(column_text)\n",
    "        col_num += 1\n",
    "    facts = pd.DataFrame()\n",
    "    facts[\"Description\"] = descriptions\n",
    "    facts[\"Values\"] = values\n",
    "    facts = facts.set_index(\"Description\")\n",
    "    print(facts)\n",
    "    facts_table = facts.to_dict()\n",
    "    article = {}\n",
    "    article[\"Detail\"] = facts_table[\"Values\"]\n",
    "    article[\"Detail URL\"] = site['URL']\n",
    "    article[\"Detail Description\"] = \"Mars Facts\"\n",
    "    return article"
   ]
  },
  {
   "cell_type": "code",
   "execution_count": 323,
   "metadata": {
    "ExecuteTime": {
     "end_time": "2019-11-17T22:01:00.320239Z",
     "start_time": "2019-11-17T22:01:00.314242Z"
    },
    "scrolled": true
   },
   "outputs": [],
   "source": [
    "def get_post(site):\n",
    "    post = {}\n",
    "    post.update({\"Site\":site[\"Name\"]})\n",
    "    url = site[\"URL\"]\n",
    "    post[\"Site URL\"] = url\n",
    "    site_type = site[\"Type\"]\n",
    "    post[\"Site Type\"] = site_type\n",
    "    details = {}\n",
    "    if site['Type'] == \"News\":\n",
    "        details = scrape_news(site)\n",
    "    elif site['Type'] == \"Featured Image\":\n",
    "        details = scrape_featured_image(site)\n",
    "    elif site['Type'] == \"Weather\":\n",
    "        details = get_Mars_weather()\n",
    "    elif site['Type']==\"Facts\":\n",
    "        details = scrape_facts(site)\n",
    "    post[\"Detail\"] = details[\"Detail\"]\n",
    "    post[\"Detail URL\"] = details[\"Detail URL\"]\n",
    "    post[\"Detail Description\"] = details[\"Detail Description\"]\n",
    "    return post"
   ]
  },
  {
   "cell_type": "code",
   "execution_count": 324,
   "metadata": {
    "ExecuteTime": {
     "end_time": "2019-11-17T22:01:10.146766Z",
     "start_time": "2019-11-17T22:01:01.980037Z"
    },
    "scrolled": false
   },
   "outputs": [
    {
     "name": "stdout",
     "output_type": "stream",
     "text": [
      "Mars Facts\n",
      "____________\n",
      "                                             Values\n",
      "Description                                        \n",
      "Equatorial Diameter                        6,792 km\n",
      "Polar Diameter                             6,752 km\n",
      "Mass                  6.39 × 10^23 kg (0.11 Earths)\n",
      "Moons                           2 (Phobos & Deimos)\n",
      "Orbit Distance             227,943,824 km (1.38 AU)\n",
      "Orbit Period                   687 days (1.9 years)\n",
      "Surface Temperature:                   -87 to -5 °C\n",
      "First Record                      2nd millennium BC\n",
      "Recorded By                    Egyptian astronomers\n",
      "{'Values': {'Equatorial Diameter': '6,792 km', 'Polar Diameter': '6,752 km', 'Mass': '6.39 × 10^23 kg (0.11 Earths)', 'Moons': '2 (Phobos & Deimos)', 'Orbit Distance': '227,943,824 km (1.38 AU)', 'Orbit Period': '687 days (1.9 years)', 'Surface Temperature:': '-87 to -5 °C', 'First Record': '2nd millennium BC', 'Recorded By': 'Egyptian astronomers'}}\n",
      "{'Site': 'Mars Facts', 'Site URL': 'https://space-facts.com/mars/', 'Site Type': 'Facts', 'Detail': {'Equatorial Diameter': '6,792 km', 'Polar Diameter': '6,752 km', 'Mass': '6.39 × 10^23 kg (0.11 Earths)', 'Moons': '2 (Phobos & Deimos)', 'Orbit Distance': '227,943,824 km (1.38 AU)', 'Orbit Period': '687 days (1.9 years)', 'Surface Temperature:': '-87 to -5 °C', 'First Record': '2nd millennium BC', 'Recorded By': 'Egyptian astronomers'}, 'Detail URL': 'https://space-facts.com/mars/', 'Detail Description': 'Mars Facts'}\n",
      "\n"
     ]
    }
   ],
   "source": [
    "site = mars_sites[3]\n",
    "post = get_post(site)\n",
    "print(post)\n",
    "print()"
   ]
  },
  {
   "cell_type": "code",
   "execution_count": null,
   "metadata": {
    "scrolled": false
   },
   "outputs": [],
   "source": [
    "# Initialize PyMongo to work with MongoDBs\n",
    "conn = 'mongodb://localhost:27017'\n",
    "client = pymongo.MongoClient(conn)\n",
    "db = client.mars_db\n",
    "collection = db.items\n",
    "for site in mars_sites:\n",
    "    response = requests.get(site[\"URL\"])\n",
    "    soup = BeautifulSoup(response.text, 'lxml')\n",
    "    results = soup.find_all('li', class_=site[\"Class\"])\n",
    "    for result in results:\n",
    "        "
   ]
  }
 ],
 "metadata": {
  "kernelspec": {
   "display_name": "Python 3",
   "language": "python",
   "name": "python3"
  },
  "language_info": {
   "codemirror_mode": {
    "name": "ipython",
    "version": 3
   },
   "file_extension": ".py",
   "mimetype": "text/x-python",
   "name": "python",
   "nbconvert_exporter": "python",
   "pygments_lexer": "ipython3",
   "version": "3.7.3"
  },
  "varInspector": {
   "cols": {
    "lenName": 16,
    "lenType": 16,
    "lenVar": 40
   },
   "kernels_config": {
    "python": {
     "delete_cmd_postfix": "",
     "delete_cmd_prefix": "del ",
     "library": "var_list.py",
     "varRefreshCmd": "print(var_dic_list())"
    },
    "r": {
     "delete_cmd_postfix": ") ",
     "delete_cmd_prefix": "rm(",
     "library": "var_list.r",
     "varRefreshCmd": "cat(var_dic_list()) "
    }
   },
   "types_to_exclude": [
    "module",
    "function",
    "builtin_function_or_method",
    "instance",
    "_Feature"
   ],
   "window_display": false
  }
 },
 "nbformat": 4,
 "nbformat_minor": 2
}
