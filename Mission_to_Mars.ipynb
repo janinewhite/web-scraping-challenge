{
 "cells": [
  {
   "cell_type": "code",
   "execution_count": 2,
   "metadata": {
    "ExecuteTime": {
     "end_time": "2019-11-16T18:28:22.721421Z",
     "start_time": "2019-11-16T18:28:18.576350Z"
    },
    "scrolled": true
   },
   "outputs": [],
   "source": [
    "# Dependencies\n",
    "from bs4 import BeautifulSoup\n",
    "import requests\n",
    "import pymongo\n",
    "import pandas as pd\n",
    "\n"
   ]
  },
  {
   "cell_type": "code",
   "execution_count": 98,
   "metadata": {
    "ExecuteTime": {
     "end_time": "2019-11-16T21:15:43.398585Z",
     "start_time": "2019-11-16T21:15:43.391602Z"
    },
    "scrolled": true
   },
   "outputs": [],
   "source": [
    "# Constants\n",
    "mars_sites = [{\"Name\":\"NASA Mars Explorer News\",\n",
    "               \"URL\":\"https://mars.nasa.gov/news/?page=0&per_page=40&order=publish_date+desc%2Ccreated_at+desc&search=&category=19%2C165%2C184%2C204&blank_scope=Latest\",\n",
    "               \"Type\":\"News\",\n",
    "               \"Article Class\":\"image_and_description_container\",\n",
    "               \"Link Class\":\"content_title\",\n",
    "               \"Link Stem\":\"https://mars.nasa.gov\",\n",
    "               \"Paragraph Class\":\"article_teaser_body\"\n",
    "              },\n",
    "              {\"Name\":\"JPL Mars Images\",\n",
    "               \"URL\":\"https://www.jpl.nasa.gov/spaceimages/?search=&category=Mars\"},\n",
    "              {\"Name\":\"Mars Weather\",\n",
    "               \"URL\":\"https://twitter.com/marswxreport?lang=en\"},\n",
    "              {\"Name\":\"Mars Facts\",\n",
    "               \"URL\":\"https://space-facts.com/mars/\"},\n",
    "              {\"Name\":\"Mars Hemispheres\",\n",
    "               \"URL\":\"https://astrogeology.usgs.gov/search/results?q=hemisphere+enhanced&k1=target&v1=Mars\"}]\n"
   ]
  },
  {
   "cell_type": "code",
   "execution_count": 108,
   "metadata": {
    "ExecuteTime": {
     "end_time": "2019-11-16T21:23:44.182133Z",
     "start_time": "2019-11-16T21:23:43.747884Z"
    },
    "scrolled": false
   },
   "outputs": [
    {
     "name": "stdout",
     "output_type": "stream",
     "text": [
      "[<div class=\"content_title\">\n",
      "<a href=\"/news/8508/nasa-invites-students-to-name-mars-2020-rover/\">\n",
      "NASA Invites Students to Name Mars 2020 Rover\n",
      "</a>\n",
      "</div>, <div class=\"content_title\">\n",
      "<a href=\"/news/8442/nasas-curiosity-mars-rover-finds-a-clay-cache/\">\n",
      "NASA's Curiosity Mars Rover Finds a Clay Cache\n",
      "</a>\n",
      "</div>, <div class=\"content_title\">\n",
      "<a href=\"/news/8436/why-this-martian-full-moon-looks-like-candy/\">\n",
      "Why This Martian Full Moon Looks Like Candy\n",
      "</a>\n",
      "</div>, <div class=\"content_title\">\n",
      "<a href=\"/news/8426/nasa-garners-7-webby-award-nominations/\">\n",
      "NASA Garners 7 Webby Award Nominations\n",
      "</a>\n",
      "</div>, <div class=\"content_title\">\n",
      "<a href=\"/news/8413/nasas-opportunity-rover-mission-on-mars-comes-to-end/\">\n",
      "NASA's Opportunity Rover Mission on Mars Comes to End\n",
      "</a>\n",
      "</div>, <div class=\"content_title\">\n",
      "<a href=\"/news/8402/nasas-insight-places-first-instrument-on-mars/\">\n",
      "NASA's InSight Places First Instrument on Mars\n",
      "</a>\n",
      "</div>]\n",
      "Section_____________________________\n",
      "<div class=\"content_title\">\n",
      "<a href=\"/news/8508/nasa-invites-students-to-name-mars-2020-rover/\">\n",
      "NASA Invites Students to Name Mars 2020 Rover\n",
      "</a>\n",
      "</div>\n",
      "[]\n",
      "/news/8402/nasas-insight-places-first-instrument-on-mars/\n",
      "Section_____________________________\n",
      "<div class=\"content_title\">\n",
      "<a href=\"/news/8442/nasas-curiosity-mars-rover-finds-a-clay-cache/\">\n",
      "NASA's Curiosity Mars Rover Finds a Clay Cache\n",
      "</a>\n",
      "</div>\n",
      "[]\n",
      "/news/8402/nasas-insight-places-first-instrument-on-mars/\n",
      "Section_____________________________\n",
      "<div class=\"content_title\">\n",
      "<a href=\"/news/8436/why-this-martian-full-moon-looks-like-candy/\">\n",
      "Why This Martian Full Moon Looks Like Candy\n",
      "</a>\n",
      "</div>\n",
      "[]\n",
      "/news/8402/nasas-insight-places-first-instrument-on-mars/\n",
      "Section_____________________________\n",
      "<div class=\"content_title\">\n",
      "<a href=\"/news/8426/nasa-garners-7-webby-award-nominations/\">\n",
      "NASA Garners 7 Webby Award Nominations\n",
      "</a>\n",
      "</div>\n",
      "[]\n",
      "/news/8402/nasas-insight-places-first-instrument-on-mars/\n",
      "Section_____________________________\n",
      "<div class=\"content_title\">\n",
      "<a href=\"/news/8413/nasas-opportunity-rover-mission-on-mars-comes-to-end/\">\n",
      "NASA's Opportunity Rover Mission on Mars Comes to End\n",
      "</a>\n",
      "</div>\n",
      "[]\n",
      "/news/8402/nasas-insight-places-first-instrument-on-mars/\n",
      "Section_____________________________\n",
      "<div class=\"content_title\">\n",
      "<a href=\"/news/8402/nasas-insight-places-first-instrument-on-mars/\">\n",
      "NASA's InSight Places First Instrument on Mars\n",
      "</a>\n",
      "</div>\n",
      "[]\n",
      "/news/8402/nasas-insight-places-first-instrument-on-mars/\n"
     ]
    }
   ],
   "source": [
    "# Scrape first site\n",
    "site = mars_sites[0]\n",
    "post = {}\n",
    "post[\"Title\"] = site[\"Name\"]\n",
    "post[\"URL\"] = site[\"URL\"]\n",
    "site_type = site[\"Type\"]\n",
    "post[\"Type\"] = site_type\n",
    "domain = site[\"Link Stem\"]\n",
    "response = requests.get(site_url)\n",
    "soup = BeautifulSoup(response.text, 'html.parser')\n",
    "#print(soup)\n",
    "if site_type == \"News\":\n",
    "    article_class  = site[\"Article Class\"]\n",
    "    link_class = site[\"Link Class\"]\n",
    "    sections = soup.find_all('div', class_ = 'content_title')\n",
    "    #sections = [x.parent for x in sections]\n",
    "    print(sections)\n",
    "    post_links = []\n",
    "    for section in sections:\n",
    "        print(\"Section_____________________________\")\n",
    "        print(section)\n",
    "        link_parent = section.find_all(\"div\",class_=\"list_text\")\n",
    "        print(link_parent)\n",
    "        #print(section)\n",
    "        #link = section.a['href']\n",
    "        print(link)\n",
    "        #print(section)\n",
    "        #title = section.find('div', class_ = link_class).a.text.replace('\\n','')\n",
    "        #link_text\n",
    "        #print(link_text)\n",
    "        #title = section.a.text.replace('\\n','')\n",
    "        #print(title)\n",
    "        \n",
    "        \n",
    "        post_link = {\"Text\":f\"{title}\",\"Link\":f\"{domain}{link}\"}\n",
    "        post_links.append(post_link)\n",
    "post[\"Links\"] = post_links\n",
    "#print(post)\n"
   ]
  },
  {
   "cell_type": "code",
   "execution_count": null,
   "metadata": {
    "collapsed": true,
    "scrolled": true
   },
   "outputs": [],
   "source": [
    "# Initialize PyMongo to work with MongoDBs\n",
    "conn = 'mongodb://localhost:27017'\n",
    "client = pymongo.MongoClient(conn)\n",
    "db = client.mars_db\n",
    "collection = db.items\n",
    "for site in mars_sites:\n",
    "    response = requests.get(site[\"URL\"])\n",
    "    soup = BeautifulSoup(response.text, 'lxml')\n",
    "    results = soup.find_all('li', class_=site[\"Class\"])\n",
    "    for result in results:\n",
    "        "
   ]
  }
 ],
 "metadata": {
  "kernelspec": {
   "display_name": "Python 3",
   "language": "python",
   "name": "python3"
  },
  "language_info": {
   "codemirror_mode": {
    "name": "ipython",
    "version": 3
   },
   "file_extension": ".py",
   "mimetype": "text/x-python",
   "name": "python",
   "nbconvert_exporter": "python",
   "pygments_lexer": "ipython3",
   "version": "3.7.3"
  },
  "varInspector": {
   "cols": {
    "lenName": 16,
    "lenType": 16,
    "lenVar": 40
   },
   "kernels_config": {
    "python": {
     "delete_cmd_postfix": "",
     "delete_cmd_prefix": "del ",
     "library": "var_list.py",
     "varRefreshCmd": "print(var_dic_list())"
    },
    "r": {
     "delete_cmd_postfix": ") ",
     "delete_cmd_prefix": "rm(",
     "library": "var_list.r",
     "varRefreshCmd": "cat(var_dic_list()) "
    }
   },
   "types_to_exclude": [
    "module",
    "function",
    "builtin_function_or_method",
    "instance",
    "_Feature"
   ],
   "window_display": false
  }
 },
 "nbformat": 4,
 "nbformat_minor": 2
}
