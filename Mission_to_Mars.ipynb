{
 "cells": [
  {
   "cell_type": "code",
   "execution_count": 1,
   "metadata": {
    "ExecuteTime": {
     "end_time": "2019-11-19T01:53:40.194150Z",
     "start_time": "2019-11-19T01:53:35.252106Z"
    },
    "scrolled": false
   },
   "outputs": [],
   "source": [
    "# Dependencies\n",
    "from splinter import Browser\n",
    "from bs4 import BeautifulSoup\n",
    "import requests\n",
    "import pymongo\n",
    "import pandas as pd\n",
    "from datetime import datetime\n",
    "import config as cfg\n",
    "import tweepy as tw\n",
    "import json"
   ]
  },
  {
   "cell_type": "code",
   "execution_count": 2,
   "metadata": {
    "ExecuteTime": {
     "end_time": "2019-11-19T01:53:40.206155Z",
     "start_time": "2019-11-19T01:53:40.202161Z"
    },
    "scrolled": false
   },
   "outputs": [],
   "source": [
    "# Constants\n",
    "mars_sites = [{\"Name\":\"NASA Mars Explorer News\",\n",
    "               \"URL\":\"https://mars.nasa.gov/news\",\n",
    "               \"Type\":\"News\",\n",
    "               \"Link Stem\":\"https://mars.nasa.gov\"\n",
    "              },\n",
    "              {\"Name\":\"JPL Mars Images\",\n",
    "               \"URL\":\"https://www.jpl.nasa.gov/spaceimages/?search=&category=Mars\",\n",
    "               \"Type\":\"Featured Image\",\n",
    "               \"Link Stem\":\"https://www.jpl.nasa.gov\"\n",
    "              },\n",
    "              {\"Name\":\"Mars Weather\",\n",
    "               \"URL\":\"https://twitter.com/marswxreport?lang=en\",\n",
    "               \"Type\":\"Weather\",\n",
    "               \"Account\":\"MarsWxReport\"\n",
    "              },\n",
    "              {\"Name\":\"Mars Facts\",\n",
    "               \"URL\":\"https://space-facts.com/mars/\",\n",
    "               \"Type\":\"Facts\"\n",
    "              },\n",
    "              {\"Name\":\"Mars Hemispheres\",\n",
    "               \"URL\":\"https://astrogeology.usgs.gov/search/results?q=hemisphere+enhanced&k1=target&v1=Mars\",\n",
    "               \"Type\":\"Hemispheres\",\n",
    "               \"Link Stem\":\"https://astrogeology.usgs.gov\"\n",
    "              }]"
   ]
  },
  {
   "cell_type": "code",
   "execution_count": 3,
   "metadata": {
    "ExecuteTime": {
     "end_time": "2019-11-19T01:53:40.218098Z",
     "start_time": "2019-11-19T01:53:40.214097Z"
    },
    "scrolled": true
   },
   "outputs": [],
   "source": [
    "def get_page(url):\n",
    "    executable_path = {\"executable_path\": cfg.chromedriver_path}\n",
    "    browser = Browser(\"chrome\", **executable_path, headless=False)\n",
    "    browser.visit(url)\n",
    "    html = browser.html\n",
    "    soup = BeautifulSoup(html, \"html.parser\")\n",
    "    browser.quit()\n",
    "    return soup"
   ]
  },
  {
   "cell_type": "code",
   "execution_count": 6,
   "metadata": {
    "ExecuteTime": {
     "end_time": "2019-11-19T01:54:41.651453Z",
     "start_time": "2019-11-19T01:54:31.977019Z"
    },
    "scrolled": true
   },
   "outputs": [
    {
     "name": "stdout",
     "output_type": "stream",
     "text": [
      "News Article\n",
      "NASA Mars Explorer News\n",
      "____________\n",
      "2019-11-15 00:00:00\n",
      "https://mars.nasa.gov/news/8551/mars-scientists-investigate-ancient-life-in-australia/\n",
      "Mars Scientists Investigate Ancient Life in Australia\n",
      "Teams with NASA's Mars 2020 and ESA's ExoMars practiced hunting for fossilized microbial life in the Australian Outback in preparation for their Red Planet missions.\n",
      "____________\n",
      "{'Detail': 'Mars Scientists Investigate Ancient Life in Australia', 'Detail URL': 'https://mars.nasa.gov/news/8551/mars-scientists-investigate-ancient-life-in-australia/', 'Detail Description': \"Teams with NASA's Mars 2020 and ESA's ExoMars practiced hunting for fossilized microbial life in the Australian Outback in preparation for their Red Planet missions.\"}\n"
     ]
    }
   ],
   "source": [
    "def scrape_news(site):\n",
    "    print(\"News Article\")\n",
    "    print(site[\"Name\"])\n",
    "    print(\"____________\")\n",
    "    executable_path = {\"executable_path\": cfg.chromedriver_path}\n",
    "    browser = Browser(\"chrome\", **executable_path, headless=False)\n",
    "    browser.visit(site['URL'])\n",
    "    html = browser.html\n",
    "    news_soup = BeautifulSoup(html, \"html.parser\")\n",
    "    browser.quit()\n",
    "    #news_soup = get_page(site['URL'])\n",
    "    latest_date = datetime(2000, 1, 1, 0, 0)\n",
    "    article_url = \"\"\n",
    "    article_title = \"\"\n",
    "    article_description = \"\"\n",
    "    articles = news_soup.find_all(\"div\",class_ = \"list_text\")\n",
    "    for article in articles:\n",
    "        date_text = article.find(\"div\",class_=\"list_date\").text\n",
    "        article_date = datetime.strptime(date_text,'%B %d, %Y')\n",
    "        if article_date > latest_date:\n",
    "            latest_date = article_date\n",
    "            print(article_date)\n",
    "            article_link = article.find(\"div\",class_=\"content_title\")\n",
    "            article_url = f\"{site['Link Stem']}{article_link.a['href']}\"\n",
    "            print(article_url)\n",
    "            article_title = article_link.a.text.replace('\\n','').strip()\n",
    "            print(article_title)\n",
    "            description = article.find(\"div\", class_ = \"article_teaser_body\")\n",
    "            article_description = description.text.strip()\n",
    "            print(article_description)\n",
    "    print(\"____________\")\n",
    "    detail = {}\n",
    "    detail[\"Detail\"] = article_title\n",
    "    detail[\"Detail URL\"] = article_url\n",
    "    detail[\"Detail Description\"] = article_description\n",
    "    return detail\n",
    "\n",
    "# scrape_news test\n",
    "print(scrape_news(mars_sites[0]))"
   ]
  },
  {
   "cell_type": "code",
   "execution_count": 30,
   "metadata": {
    "ExecuteTime": {
     "end_time": "2019-11-18T04:15:15.451905Z",
     "start_time": "2019-11-18T04:15:05.775595Z"
    },
    "scrolled": true
   },
   "outputs": [
    {
     "name": "stdout",
     "output_type": "stream",
     "text": [
      "Featured Image\n",
      "____________\n",
      "Cassiopeia A: Death Becomes Her\n",
      "/spaceimages/images/wallpaper/PIA03519-1920x1200.jpg\n",
      "{'Detail': 'Cassiopeia A: Death Becomes Her', 'Detail URL': 'https://www.jpl.nasa.gov/spaceimages/images/wallpaper/PIA03519-1920x1200.jpg', 'Detail Description': 'Jet Propulsion Laboratory Featured Image'}\n"
     ]
    }
   ],
   "source": [
    "def scrape_featured_image(site):\n",
    "    print(\"Featured Image\")\n",
    "    print(\"____________\")\n",
    "    featured_soup = get_page(site['URL'])\n",
    "    article = {}\n",
    "    image = featured_soup.find(\"article\",class_=\"carousel_item\")\n",
    "    print(image[\"alt\"])\n",
    "    image_style = image[\"style\"]\n",
    "    image_link = image_style[image_style.find(\"'\")+1:]\n",
    "    image_link = image_link[:image_link.find(\"'\")]\n",
    "    print(image_link)\n",
    "    article[\"Detail\"] = image[\"alt\"]\n",
    "    article[\"Detail URL\"] = f\"{site['Link Stem']}{image_link}\"\n",
    "    article[\"Detail Description\"] = \"Jet Propulsion Laboratory Featured Image\"\n",
    "    return article\n",
    "\n",
    "# scrape_featured_image test\n",
    "print(scrape_featured_image(mars_sites[1]))"
   ]
  },
  {
   "cell_type": "code",
   "execution_count": 11,
   "metadata": {
    "ExecuteTime": {
     "end_time": "2019-11-18T03:52:42.340896Z",
     "start_time": "2019-11-18T03:52:42.336934Z"
    }
   },
   "outputs": [],
   "source": [
    "def get_Twitter_API():\n",
    "    consumer_key = cfg.Twitter_Consumer_API_Key\n",
    "    consumer_secret = cfg.Twitter_Consumer_Secret_API_Key\n",
    "    access_token = cfg.Twitter_Access_Token\n",
    "    access_token_secret = cfg.Twitter_Access_Token_Secret\n",
    "    auth = tw.OAuthHandler(consumer_key, consumer_secret)\n",
    "    auth.set_access_token(access_token, access_token_secret) \n",
    "    api = tw.API(auth)\n",
    "    return api"
   ]
  },
  {
   "cell_type": "code",
   "execution_count": 29,
   "metadata": {
    "ExecuteTime": {
     "end_time": "2019-11-18T04:14:36.339391Z",
     "start_time": "2019-11-18T04:14:26.805289Z"
    },
    "scrolled": true
   },
   "outputs": [
    {
     "name": "stdout",
     "output_type": "stream",
     "text": [
      "Mars Weather\n",
      "____________\n",
      "https://twitter.com/i/web/status/1196244436252078080\n",
      "InSight sol 346 (2019-11-16) low -101.5ºC (-150.8ºF) high -23.5ºC (-10.3ºF)winds from the SSE at 4.8 m/s (10.8 mph) gusting to 20.0 m/s (44.7 mph)pressure at 6.80\n",
      "{'Detail': 'InSight sol 346 (2019-11-16) low -101.5ºC (-150.8ºF) high -23.5ºC (-10.3ºF)winds from the SSE at 4.8 m/s (10.8 mph) gusting to 20.0 m/s (44.7 mph)pressure at 6.80', 'Detail URL': 'https://twitter.com/i/web/status/1196244436252078080', 'Detail Description': 'Mars Weather Tweet'}\n"
     ]
    }
   ],
   "source": [
    "def scrape_weather(site):\n",
    "    print(\"Mars Weather\")\n",
    "    print(\"____________\")\n",
    "    # Use API to get latest Mars Weather tweet\n",
    "    api = get_Twitter_API()\n",
    "    twitter_account = site[\"Account\"]\n",
    "    status = api.user_timeline(twitter_account,count=1,page=1)\n",
    "    #json_str = json.dumps(status[0]._json)\n",
    "    #parsed = json.loads(json_str)\n",
    "    #print(json.dumps(parsed, indent=4, sort_keys=True))\n",
    "    entities = status[0].entities\n",
    "    urls = dict(entities[\"urls\"][0])\n",
    "    last_tweet_url = \"\"\n",
    "    for key in urls.keys():\n",
    "        if key == \"expanded_url\":\n",
    "            last_tweet_url = urls[key]\n",
    "    print(last_tweet_url)\n",
    "    # Scrape text of latest tweet\n",
    "    weather_soup = get_page(last_tweet_url)\n",
    "    tweet = weather_soup.find(\"div\",class_=\"js-tweet-text-container\")\n",
    "    tweet_text = tweet.p.text.replace('\\n','').strip()\n",
    "    tweet_text = tweet_text[:(tweet_text.find(\"hPapic.twitter.com\")-1)]\n",
    "    print(tweet_text)\n",
    "    article = {}\n",
    "    article[\"Detail\"] = tweet_text\n",
    "    article[\"Detail URL\"] = last_tweet_url\n",
    "    article[\"Detail Description\"] = \"Mars Weather Tweet\"\n",
    "    return article\n",
    "\n",
    "# scrape_weather test\n",
    "print(scrape_weather(mars_sites[2]))"
   ]
  },
  {
   "cell_type": "code",
   "execution_count": 31,
   "metadata": {
    "ExecuteTime": {
     "end_time": "2019-11-18T04:16:09.950941Z",
     "start_time": "2019-11-18T04:15:58.538034Z"
    }
   },
   "outputs": [
    {
     "name": "stdout",
     "output_type": "stream",
     "text": [
      "Mars Facts\n",
      "____________\n",
      "                                             Values\n",
      "Description                                        \n",
      "Equatorial Diameter                        6,792 km\n",
      "Polar Diameter                             6,752 km\n",
      "Mass                  6.39 × 10^23 kg (0.11 Earths)\n",
      "Moons                           2 (Phobos & Deimos)\n",
      "Orbit Distance             227,943,824 km (1.38 AU)\n",
      "Orbit Period                   687 days (1.9 years)\n",
      "Surface Temperature:                   -87 to -5 °C\n",
      "First Record                      2nd millennium BC\n",
      "Recorded By                    Egyptian astronomers\n",
      "{'Detail': {'Equatorial Diameter': '6,792 km', 'Polar Diameter': '6,752 km', 'Mass': '6.39 × 10^23 kg (0.11 Earths)', 'Moons': '2 (Phobos & Deimos)', 'Orbit Distance': '227,943,824 km (1.38 AU)', 'Orbit Period': '687 days (1.9 years)', 'Surface Temperature:': '-87 to -5 °C', 'First Record': '2nd millennium BC', 'Recorded By': 'Egyptian astronomers'}, 'Detail URL': 'https://space-facts.com/mars/', 'Detail Description': 'Mars Facts'}\n"
     ]
    }
   ],
   "source": [
    "def scrape_facts(site):\n",
    "    print(\"Mars Facts\")\n",
    "    print(\"____________\")\n",
    "    facts_soup = get_page(site['URL'])\n",
    "    table = facts_soup.find(\"table\",class_=\"tablepress tablepress-id-p-mars\")\n",
    "    table_body = table.tbody\n",
    "    columns = table_body.find_all(\"td\")\n",
    "    descriptions = []\n",
    "    values = []\n",
    "    col_num = 0\n",
    "    for column in columns:\n",
    "        column_text = column.text\n",
    "        if (col_num % 2) == 0:\n",
    "            column_text = column_text[0:(len(column_text)-1)]\n",
    "            descriptions.append(column_text)\n",
    "        else:\n",
    "            values.append(column_text)\n",
    "        col_num += 1\n",
    "    facts = pd.DataFrame()\n",
    "    facts[\"Description\"] = descriptions\n",
    "    facts[\"Values\"] = values\n",
    "    facts = facts.set_index(\"Description\")\n",
    "    print(facts)\n",
    "    facts_table = facts.to_dict()\n",
    "    article = {}\n",
    "    article[\"Detail\"] = facts_table[\"Values\"]\n",
    "    article[\"Detail URL\"] = site['URL']\n",
    "    article[\"Detail Description\"] = \"Mars Facts\"\n",
    "    return article\n",
    "\n",
    "# scrape_facts test\n",
    "print(scrape_facts(mars_sites[3]))"
   ]
  },
  {
   "cell_type": "code",
   "execution_count": 14,
   "metadata": {
    "ExecuteTime": {
     "end_time": "2019-11-18T03:54:06.356627Z",
     "start_time": "2019-11-18T03:53:14.116827Z"
    }
   },
   "outputs": [
    {
     "name": "stdout",
     "output_type": "stream",
     "text": [
      "Mars Hemispheres\n",
      "____________\n",
      "{'Detail': [{'Name': 'Cerberus', 'Page': 'https://astrogeology.usgs.gov/search/map/Mars/Viking/cerberus_enhanced', 'Image': 'https://astrogeology.usgs.gov/cache/images/cfa62af2557222a02478f1fcd781d445_cerberus_enhanced.tif_full.jpg'}, {'Name': 'Schiaparelli', 'Page': 'https://astrogeology.usgs.gov/search/map/Mars/Viking/schiaparelli_enhanced', 'Image': 'https://astrogeology.usgs.gov/cache/images/3cdd1cbf5e0813bba925c9030d13b62e_schiaparelli_enhanced.tif_full.jpg'}, {'Name': 'Syrtis', 'Page': 'https://astrogeology.usgs.gov/search/map/Mars/Viking/syrtis_major_enhanced', 'Image': 'https://astrogeology.usgs.gov/cache/images/ae209b4e408bb6c3e67b6af38168cf28_syrtis_major_enhanced.tif_full.jpg'}, {'Name': 'Valles', 'Page': 'https://astrogeology.usgs.gov/search/map/Mars/Viking/valles_marineris_enhanced', 'Image': 'https://astrogeology.usgs.gov/cache/images/7cf2da4bf549ed01c17f206327be4db7_valles_marineris_enhanced.tif_full.jpg'}], 'Detail URL': 'https://astrogeology.usgs.gov/search/results?q=hemisphere+enhanced&k1=target&v1=Mars', 'Detail Description': 'Mars Hemispheres'}\n"
     ]
    }
   ],
   "source": [
    "def scrape_hemispheres(site):\n",
    "    print(\"Mars Hemispheres\")\n",
    "    print(\"____________\")\n",
    "    hemispheres_soup = get_page(site['URL'])\n",
    "    items = hemispheres_soup.find_all(\"div\",class_=\"item\")\n",
    "    link_stem = site[\"Link Stem\"]\n",
    "    hemispheres = []\n",
    "    for item in items:\n",
    "        hemisphere = {}\n",
    "        hemisphere[\"Name\"] = item.img[\"alt\"].split(\" \")[0]\n",
    "        hemisphere_page = f\"{link_stem}{item.a['href']}\"\n",
    "        hemisphere[\"Page\"] = hemisphere_page\n",
    "        hemisphere_soup = get_page(hemisphere_page)\n",
    "        hemisphere_image = hemisphere_soup.find(\"img\",class_=\"wide-image\")\n",
    "        hemisphere[\"Image\"] = f\"{link_stem}{hemisphere_image['src']}\"\n",
    "        hemispheres.append(hemisphere)\n",
    "    article = {}\n",
    "    article[\"Detail\"] = hemispheres\n",
    "    article[\"Detail URL\"] = site[\"URL\"]\n",
    "    article[\"Detail Description\"] = \"Mars Hemispheres\"\n",
    "    return article\n",
    "\n",
    "# scrape_hemispheres test\n",
    "print(scrape_hemispheres(mars_sites[4]))"
   ]
  },
  {
   "cell_type": "code",
   "execution_count": 32,
   "metadata": {
    "ExecuteTime": {
     "end_time": "2019-11-18T04:16:38.257905Z",
     "start_time": "2019-11-18T04:16:28.350046Z"
    },
    "scrolled": true
   },
   "outputs": [
    {
     "name": "stdout",
     "output_type": "stream",
     "text": [
      "News Article\n",
      "NASA Mars Explorer News\n",
      "____________\n",
      "2019-11-15 00:00:00\n",
      "https://mars.nasa.gov/news/8551/mars-scientists-investigate-ancient-life-in-australia/\n",
      "Mars Scientists Investigate Ancient Life in Australia\n",
      "Teams with NASA's Mars 2020 and ESA's ExoMars practiced hunting for fossilized microbial life in the Australian Outback in preparation for their Red Planet missions.\n",
      "____________\n",
      "NASA Mars Explorer News Details:\n",
      "{'Detail': 'Mars Scientists Investigate Ancient Life in Australia', 'Detail URL': 'https://mars.nasa.gov/news/8551/mars-scientists-investigate-ancient-life-in-australia/', 'Detail Description': \"Teams with NASA's Mars 2020 and ESA's ExoMars practiced hunting for fossilized microbial life in the Australian Outback in preparation for their Red Planet missions.\"}\n",
      "\n",
      "{'Site': 'NASA Mars Explorer News', 'Site URL': 'https://mars.nasa.gov/news', 'Site Type': 'News', 'Detail': 'Mars Scientists Investigate Ancient Life in Australia', 'Detail URL': 'https://mars.nasa.gov/news/8551/mars-scientists-investigate-ancient-life-in-australia/', 'Detail Description': \"Teams with NASA's Mars 2020 and ESA's ExoMars practiced hunting for fossilized microbial life in the Australian Outback in preparation for their Red Planet missions.\"}\n"
     ]
    }
   ],
   "source": [
    "def get_post(site):\n",
    "    post = {}\n",
    "    post.update({\"Site\":site[\"Name\"]})\n",
    "    url = site[\"URL\"]\n",
    "    post[\"Site URL\"] = url\n",
    "    site_type = site[\"Type\"]\n",
    "    post[\"Site Type\"] = site_type\n",
    "    details = {}\n",
    "    if site['Type'] == \"News\":\n",
    "        details = scrape_news(site)\n",
    "    elif site['Type'] == \"Featured Image\":\n",
    "        details = scrape_featured_image(site)\n",
    "    elif site['Type'] == \"Weather\":\n",
    "        details = scrape_weather(site)\n",
    "    elif site['Type']==\"Facts\":\n",
    "        details = scrape_facts(site)\n",
    "    else:\n",
    "        details = scrape_hemispheres(site)\n",
    "    print(f\"{site['Name']} Details:\")\n",
    "    print(details)\n",
    "    print()\n",
    "    post[\"Detail\"] = details[\"Detail\"]\n",
    "    post[\"Detail URL\"] = details[\"Detail URL\"]\n",
    "    post[\"Detail Description\"] = details[\"Detail Description\"]\n",
    "    return post\n",
    "          \n",
    "# test get_post\n",
    "print(get_post(mars_sites[0]))"
   ]
  },
  {
   "cell_type": "code",
   "execution_count": 33,
   "metadata": {
    "ExecuteTime": {
     "end_time": "2019-11-18T04:19:03.009521Z",
     "start_time": "2019-11-18T04:17:28.549086Z"
    },
    "scrolled": false
   },
   "outputs": [
    {
     "name": "stdout",
     "output_type": "stream",
     "text": [
      "News Article\n",
      "NASA Mars Explorer News\n",
      "____________\n",
      "2019-11-15 00:00:00\n",
      "https://mars.nasa.gov/news/8551/mars-scientists-investigate-ancient-life-in-australia/\n",
      "Mars Scientists Investigate Ancient Life in Australia\n",
      "Teams with NASA's Mars 2020 and ESA's ExoMars practiced hunting for fossilized microbial life in the Australian Outback in preparation for their Red Planet missions.\n",
      "____________\n",
      "NASA Mars Explorer News Details:\n",
      "{'Detail': 'Mars Scientists Investigate Ancient Life in Australia', 'Detail URL': 'https://mars.nasa.gov/news/8551/mars-scientists-investigate-ancient-life-in-australia/', 'Detail Description': \"Teams with NASA's Mars 2020 and ESA's ExoMars practiced hunting for fossilized microbial life in the Australian Outback in preparation for their Red Planet missions.\"}\n",
      "\n",
      "Featured Image\n",
      "____________\n",
      "Cassiopeia A: Death Becomes Her\n",
      "/spaceimages/images/wallpaper/PIA03519-1920x1200.jpg\n",
      "JPL Mars Images Details:\n",
      "{'Detail': 'Cassiopeia A: Death Becomes Her', 'Detail URL': 'https://www.jpl.nasa.gov/spaceimages/images/wallpaper/PIA03519-1920x1200.jpg', 'Detail Description': 'Jet Propulsion Laboratory Featured Image'}\n",
      "\n",
      "Mars Weather\n",
      "____________\n",
      "https://twitter.com/i/web/status/1196244436252078080\n",
      "InSight sol 346 (2019-11-16) low -101.5ºC (-150.8ºF) high -23.5ºC (-10.3ºF)winds from the SSE at 4.8 m/s (10.8 mph) gusting to 20.0 m/s (44.7 mph)pressure at 6.80\n",
      "Mars Weather Details:\n",
      "{'Detail': 'InSight sol 346 (2019-11-16) low -101.5ºC (-150.8ºF) high -23.5ºC (-10.3ºF)winds from the SSE at 4.8 m/s (10.8 mph) gusting to 20.0 m/s (44.7 mph)pressure at 6.80', 'Detail URL': 'https://twitter.com/i/web/status/1196244436252078080', 'Detail Description': 'Mars Weather Tweet'}\n",
      "\n",
      "Mars Facts\n",
      "____________\n",
      "                                             Values\n",
      "Description                                        \n",
      "Equatorial Diameter                        6,792 km\n",
      "Polar Diameter                             6,752 km\n",
      "Mass                  6.39 × 10^23 kg (0.11 Earths)\n",
      "Moons                           2 (Phobos & Deimos)\n",
      "Orbit Distance             227,943,824 km (1.38 AU)\n",
      "Orbit Period                   687 days (1.9 years)\n",
      "Surface Temperature:                   -87 to -5 °C\n",
      "First Record                      2nd millennium BC\n",
      "Recorded By                    Egyptian astronomers\n",
      "Mars Facts Details:\n",
      "{'Detail': {'Equatorial Diameter': '6,792 km', 'Polar Diameter': '6,752 km', 'Mass': '6.39 × 10^23 kg (0.11 Earths)', 'Moons': '2 (Phobos & Deimos)', 'Orbit Distance': '227,943,824 km (1.38 AU)', 'Orbit Period': '687 days (1.9 years)', 'Surface Temperature:': '-87 to -5 °C', 'First Record': '2nd millennium BC', 'Recorded By': 'Egyptian astronomers'}, 'Detail URL': 'https://space-facts.com/mars/', 'Detail Description': 'Mars Facts'}\n",
      "\n",
      "Mars Hemispheres\n",
      "____________\n",
      "Mars Hemispheres Details:\n",
      "{'Detail': [{'Name': 'Cerberus', 'Page': 'https://astrogeology.usgs.gov/search/map/Mars/Viking/cerberus_enhanced', 'Image': 'https://astrogeology.usgs.gov/cache/images/cfa62af2557222a02478f1fcd781d445_cerberus_enhanced.tif_full.jpg'}, {'Name': 'Schiaparelli', 'Page': 'https://astrogeology.usgs.gov/search/map/Mars/Viking/schiaparelli_enhanced', 'Image': 'https://astrogeology.usgs.gov/cache/images/3cdd1cbf5e0813bba925c9030d13b62e_schiaparelli_enhanced.tif_full.jpg'}, {'Name': 'Syrtis', 'Page': 'https://astrogeology.usgs.gov/search/map/Mars/Viking/syrtis_major_enhanced', 'Image': 'https://astrogeology.usgs.gov/cache/images/ae209b4e408bb6c3e67b6af38168cf28_syrtis_major_enhanced.tif_full.jpg'}, {'Name': 'Valles', 'Page': 'https://astrogeology.usgs.gov/search/map/Mars/Viking/valles_marineris_enhanced', 'Image': 'https://astrogeology.usgs.gov/cache/images/7cf2da4bf549ed01c17f206327be4db7_valles_marineris_enhanced.tif_full.jpg'}], 'Detail URL': 'https://astrogeology.usgs.gov/search/results?q=hemisphere+enhanced&k1=target&v1=Mars', 'Detail Description': 'Mars Hemispheres'}\n",
      "\n",
      "[{'Site': 'NASA Mars Explorer News', 'Site URL': 'https://mars.nasa.gov/news', 'Site Type': 'News', 'Detail': 'Mars Scientists Investigate Ancient Life in Australia', 'Detail URL': 'https://mars.nasa.gov/news/8551/mars-scientists-investigate-ancient-life-in-australia/', 'Detail Description': \"Teams with NASA's Mars 2020 and ESA's ExoMars practiced hunting for fossilized microbial life in the Australian Outback in preparation for their Red Planet missions.\"}, {'Site': 'JPL Mars Images', 'Site URL': 'https://www.jpl.nasa.gov/spaceimages/?search=&category=Mars', 'Site Type': 'Featured Image', 'Detail': 'Cassiopeia A: Death Becomes Her', 'Detail URL': 'https://www.jpl.nasa.gov/spaceimages/images/wallpaper/PIA03519-1920x1200.jpg', 'Detail Description': 'Jet Propulsion Laboratory Featured Image'}, {'Site': 'Mars Weather', 'Site URL': 'https://twitter.com/marswxreport?lang=en', 'Site Type': 'Weather', 'Detail': 'InSight sol 346 (2019-11-16) low -101.5ºC (-150.8ºF) high -23.5ºC (-10.3ºF)winds from the SSE at 4.8 m/s (10.8 mph) gusting to 20.0 m/s (44.7 mph)pressure at 6.80', 'Detail URL': 'https://twitter.com/i/web/status/1196244436252078080', 'Detail Description': 'Mars Weather Tweet'}, {'Site': 'Mars Facts', 'Site URL': 'https://space-facts.com/mars/', 'Site Type': 'Facts', 'Detail': {'Equatorial Diameter': '6,792 km', 'Polar Diameter': '6,752 km', 'Mass': '6.39 × 10^23 kg (0.11 Earths)', 'Moons': '2 (Phobos & Deimos)', 'Orbit Distance': '227,943,824 km (1.38 AU)', 'Orbit Period': '687 days (1.9 years)', 'Surface Temperature:': '-87 to -5 °C', 'First Record': '2nd millennium BC', 'Recorded By': 'Egyptian astronomers'}, 'Detail URL': 'https://space-facts.com/mars/', 'Detail Description': 'Mars Facts'}, {'Site': 'Mars Hemispheres', 'Site URL': 'https://astrogeology.usgs.gov/search/results?q=hemisphere+enhanced&k1=target&v1=Mars', 'Site Type': 'Hemispheres', 'Detail': [{'Name': 'Cerberus', 'Page': 'https://astrogeology.usgs.gov/search/map/Mars/Viking/cerberus_enhanced', 'Image': 'https://astrogeology.usgs.gov/cache/images/cfa62af2557222a02478f1fcd781d445_cerberus_enhanced.tif_full.jpg'}, {'Name': 'Schiaparelli', 'Page': 'https://astrogeology.usgs.gov/search/map/Mars/Viking/schiaparelli_enhanced', 'Image': 'https://astrogeology.usgs.gov/cache/images/3cdd1cbf5e0813bba925c9030d13b62e_schiaparelli_enhanced.tif_full.jpg'}, {'Name': 'Syrtis', 'Page': 'https://astrogeology.usgs.gov/search/map/Mars/Viking/syrtis_major_enhanced', 'Image': 'https://astrogeology.usgs.gov/cache/images/ae209b4e408bb6c3e67b6af38168cf28_syrtis_major_enhanced.tif_full.jpg'}, {'Name': 'Valles', 'Page': 'https://astrogeology.usgs.gov/search/map/Mars/Viking/valles_marineris_enhanced', 'Image': 'https://astrogeology.usgs.gov/cache/images/7cf2da4bf549ed01c17f206327be4db7_valles_marineris_enhanced.tif_full.jpg'}], 'Detail URL': 'https://astrogeology.usgs.gov/search/results?q=hemisphere+enhanced&k1=target&v1=Mars', 'Detail Description': 'Mars Hemispheres'}]\n"
     ]
    }
   ],
   "source": [
    "def scrape_sites():\n",
    "    sites = []\n",
    "    for site in mars_sites:\n",
    "        post = get_post(site)\n",
    "        sites.append(post)\n",
    "    return sites\n",
    "\n",
    "# test scrape_sites\n",
    "print(scrape_sites())"
   ]
  },
  {
   "cell_type": "code",
   "execution_count": 34,
   "metadata": {
    "ExecuteTime": {
     "end_time": "2019-11-18T04:20:43.722156Z",
     "start_time": "2019-11-18T04:19:09.539681Z"
    }
   },
   "outputs": [
    {
     "name": "stdout",
     "output_type": "stream",
     "text": [
      "News Article\n",
      "NASA Mars Explorer News\n",
      "____________\n",
      "____________\n",
      "NASA Mars Explorer News Details:\n",
      "{'Detail': '', 'Detail URL': '', 'Detail Description': ''}\n",
      "\n",
      "Featured Image\n",
      "____________\n",
      "Cassiopeia A: Death Becomes Her\n",
      "/spaceimages/images/wallpaper/PIA03519-1920x1200.jpg\n",
      "JPL Mars Images Details:\n",
      "{'Detail': 'Cassiopeia A: Death Becomes Her', 'Detail URL': 'https://www.jpl.nasa.gov/spaceimages/images/wallpaper/PIA03519-1920x1200.jpg', 'Detail Description': 'Jet Propulsion Laboratory Featured Image'}\n",
      "\n",
      "Mars Weather\n",
      "____________\n",
      "https://twitter.com/i/web/status/1196244436252078080\n",
      "InSight sol 346 (2019-11-16) low -101.5ºC (-150.8ºF) high -23.5ºC (-10.3ºF)winds from the SSE at 4.8 m/s (10.8 mph) gusting to 20.0 m/s (44.7 mph)pressure at 6.80\n",
      "Mars Weather Details:\n",
      "{'Detail': 'InSight sol 346 (2019-11-16) low -101.5ºC (-150.8ºF) high -23.5ºC (-10.3ºF)winds from the SSE at 4.8 m/s (10.8 mph) gusting to 20.0 m/s (44.7 mph)pressure at 6.80', 'Detail URL': 'https://twitter.com/i/web/status/1196244436252078080', 'Detail Description': 'Mars Weather Tweet'}\n",
      "\n",
      "Mars Facts\n",
      "____________\n",
      "                                             Values\n",
      "Description                                        \n",
      "Equatorial Diameter                        6,792 km\n",
      "Polar Diameter                             6,752 km\n",
      "Mass                  6.39 × 10^23 kg (0.11 Earths)\n",
      "Moons                           2 (Phobos & Deimos)\n",
      "Orbit Distance             227,943,824 km (1.38 AU)\n",
      "Orbit Period                   687 days (1.9 years)\n",
      "Surface Temperature:                   -87 to -5 °C\n",
      "First Record                      2nd millennium BC\n",
      "Recorded By                    Egyptian astronomers\n",
      "Mars Facts Details:\n",
      "{'Detail': {'Equatorial Diameter': '6,792 km', 'Polar Diameter': '6,752 km', 'Mass': '6.39 × 10^23 kg (0.11 Earths)', 'Moons': '2 (Phobos & Deimos)', 'Orbit Distance': '227,943,824 km (1.38 AU)', 'Orbit Period': '687 days (1.9 years)', 'Surface Temperature:': '-87 to -5 °C', 'First Record': '2nd millennium BC', 'Recorded By': 'Egyptian astronomers'}, 'Detail URL': 'https://space-facts.com/mars/', 'Detail Description': 'Mars Facts'}\n",
      "\n",
      "Mars Hemispheres\n",
      "____________\n",
      "Mars Hemispheres Details:\n",
      "{'Detail': [{'Name': 'Cerberus', 'Page': 'https://astrogeology.usgs.gov/search/map/Mars/Viking/cerberus_enhanced', 'Image': 'https://astrogeology.usgs.gov/cache/images/cfa62af2557222a02478f1fcd781d445_cerberus_enhanced.tif_full.jpg'}, {'Name': 'Schiaparelli', 'Page': 'https://astrogeology.usgs.gov/search/map/Mars/Viking/schiaparelli_enhanced', 'Image': 'https://astrogeology.usgs.gov/cache/images/3cdd1cbf5e0813bba925c9030d13b62e_schiaparelli_enhanced.tif_full.jpg'}, {'Name': 'Syrtis', 'Page': 'https://astrogeology.usgs.gov/search/map/Mars/Viking/syrtis_major_enhanced', 'Image': 'https://astrogeology.usgs.gov/cache/images/ae209b4e408bb6c3e67b6af38168cf28_syrtis_major_enhanced.tif_full.jpg'}, {'Name': 'Valles', 'Page': 'https://astrogeology.usgs.gov/search/map/Mars/Viking/valles_marineris_enhanced', 'Image': 'https://astrogeology.usgs.gov/cache/images/7cf2da4bf549ed01c17f206327be4db7_valles_marineris_enhanced.tif_full.jpg'}], 'Detail URL': 'https://astrogeology.usgs.gov/search/results?q=hemisphere+enhanced&k1=target&v1=Mars', 'Detail Description': 'Mars Hemispheres'}\n",
      "\n",
      "[ObjectId('5dd21c1bc21f17391da11c1f'), ObjectId('5dd21c1bc21f17391da11c20'), ObjectId('5dd21c1bc21f17391da11c21'), ObjectId('5dd21c1bc21f17391da11c22'), ObjectId('5dd21c1bc21f17391da11c23')]\n"
     ]
    }
   ],
   "source": [
    "# Insert Mars site into MongoDB\n",
    "conn = 'mongodb://localhost:27017'\n",
    "client = pymongo.MongoClient(conn)\n",
    "db = client.mars_db\n",
    "db.mars.drop()\n",
    "posts = scrape_sites()\n",
    "x = db.mars.insert_many(posts)\n",
    "print(x.inserted_ids)"
   ]
  },
  {
   "cell_type": "code",
   "execution_count": 35,
   "metadata": {
    "ExecuteTime": {
     "end_time": "2019-11-18T04:21:00.063956Z",
     "start_time": "2019-11-18T04:21:00.058976Z"
    },
    "scrolled": false
   },
   "outputs": [
    {
     "name": "stdout",
     "output_type": "stream",
     "text": [
      "NASA Mars Explorer News\n",
      "JPL Mars Images\n",
      "Mars Weather\n",
      "Mars Facts\n",
      "Mars Hemispheres\n"
     ]
    }
   ],
   "source": [
    "# Verify insertion\n",
    "items = db.mars.find()\n",
    "for item in items:\n",
    "    print(item['Site'])"
   ]
  },
  {
   "cell_type": "code",
   "execution_count": null,
   "metadata": {},
   "outputs": [],
   "source": []
  }
 ],
 "metadata": {
  "kernelspec": {
   "display_name": "Python 3",
   "language": "python",
   "name": "python3"
  },
  "language_info": {
   "codemirror_mode": {
    "name": "ipython",
    "version": 3
   },
   "file_extension": ".py",
   "mimetype": "text/x-python",
   "name": "python",
   "nbconvert_exporter": "python",
   "pygments_lexer": "ipython3",
   "version": "3.7.3"
  },
  "varInspector": {
   "cols": {
    "lenName": 16,
    "lenType": 16,
    "lenVar": 40
   },
   "kernels_config": {
    "python": {
     "delete_cmd_postfix": "",
     "delete_cmd_prefix": "del ",
     "library": "var_list.py",
     "varRefreshCmd": "print(var_dic_list())"
    },
    "r": {
     "delete_cmd_postfix": ") ",
     "delete_cmd_prefix": "rm(",
     "library": "var_list.r",
     "varRefreshCmd": "cat(var_dic_list()) "
    }
   },
   "types_to_exclude": [
    "module",
    "function",
    "builtin_function_or_method",
    "instance",
    "_Feature"
   ],
   "window_display": false
  }
 },
 "nbformat": 4,
 "nbformat_minor": 2
}
