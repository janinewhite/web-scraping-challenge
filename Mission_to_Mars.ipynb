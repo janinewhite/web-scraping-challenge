{
 "cells": [
  {
   "cell_type": "code",
   "execution_count": 1,
   "metadata": {
    "ExecuteTime": {
     "end_time": "2019-11-17T06:58:17.263965Z",
     "start_time": "2019-11-17T06:58:13.873456Z"
    },
    "scrolled": true
   },
   "outputs": [],
   "source": [
    "# Dependencies\n",
    "from splinter import Browser\n",
    "from bs4 import BeautifulSoup\n",
    "import requests\n",
    "import pymongo\n",
    "import pandas as pd\n",
    "from dateutil import parser\n",
    "from datetime import datetime"
   ]
  },
  {
   "cell_type": "code",
   "execution_count": 2,
   "metadata": {
    "ExecuteTime": {
     "end_time": "2019-11-17T06:58:17.293838Z",
     "start_time": "2019-11-17T06:58:17.286883Z"
    },
    "scrolled": true
   },
   "outputs": [],
   "source": [
    "# Constants\n",
    "chrome_path = \"C:/Users/janin/OneDrive/Documents/GitHub/chromedriver.exe\"\n",
    "mars_sites = [{\"Name\":\"NASA Mars Explorer News\",\n",
    "               \"URL\":\"https://mars.nasa.gov/news/?page=0&per_page=40&order=publish_date+desc%2Ccreated_at+desc&search=&category=19%2C165%2C184%2C204&blank_scope=Latest\",\n",
    "               \"Type\":\"News\",\n",
    "               \"Link Stem\":\"https://mars.nasa.gov\"\n",
    "              },\n",
    "              {\"Name\":\"JPL Mars Images\",\n",
    "               \"URL\":\"https://www.jpl.nasa.gov/spaceimages/?search=&category=Mars\"},\n",
    "              {\"Name\":\"Mars Weather\",\n",
    "               \"URL\":\"https://twitter.com/marswxreport?lang=en\"},\n",
    "              {\"Name\":\"Mars Facts\",\n",
    "               \"URL\":\"https://space-facts.com/mars/\"},\n",
    "              {\"Name\":\"Mars Hemispheres\",\n",
    "               \"URL\":\"https://astrogeology.usgs.gov/search/results?q=hemisphere+enhanced&k1=target&v1=Mars\"}]"
   ]
  },
  {
   "cell_type": "code",
   "execution_count": 3,
   "metadata": {
    "ExecuteTime": {
     "end_time": "2019-11-17T06:58:17.321763Z",
     "start_time": "2019-11-17T06:58:17.318805Z"
    }
   },
   "outputs": [],
   "source": [
    "def init_browser():\n",
    "    executable_path = {\"executable_path\": chrome_path}\n",
    "    return Browser(\"chrome\", **executable_path, headless=False)"
   ]
  },
  {
   "cell_type": "code",
   "execution_count": 4,
   "metadata": {
    "ExecuteTime": {
     "end_time": "2019-11-17T06:58:19.512817Z",
     "start_time": "2019-11-17T06:58:19.509000Z"
    }
   },
   "outputs": [],
   "source": [
    "def get_page(url):\n",
    "    browser = init_browser()\n",
    "    browser.visit(url)\n",
    "    html = browser.html\n",
    "    return BeautifulSoup(html, \"html.parser\")"
   ]
  },
  {
   "cell_type": "code",
   "execution_count": 10,
   "metadata": {
    "ExecuteTime": {
     "end_time": "2019-11-17T07:03:08.950383Z",
     "start_time": "2019-11-17T07:03:08.943357Z"
    }
   },
   "outputs": [],
   "source": [
    "def scrape_news(site):\n",
    "    print(\"News Article\")\n",
    "    print(\"____________\")\n",
    "    soup = get_page(site['URL'])\n",
    "    article = {}\n",
    "    articles = soup.find_all(\"div\",class_ = \"list_text\")\n",
    "    latest_date = datetime(2000, 1, 1, 0, 0)\n",
    "    article_url = \"\"\n",
    "    article_title = \"\"\n",
    "    description = \"\"\n",
    "    for article in articles:\n",
    "        date_text = article.find(\"div\",class_=\"list_date\").text\n",
    "        article_date = datetime.strptime(date_text,'%B %d, %Y')\n",
    "        if article_date > latest_date:\n",
    "            latest_date = article_date\n",
    "            print(article_date)\n",
    "            article_link = article.find(\"div\",class_=\"content_title\")\n",
    "            article_url = f\"{site['Link Stem']}{article_link.a['href']}\"\n",
    "            print(article_url)\n",
    "            article_title = article_link.a.text.replace('\\n','').strip()\n",
    "            print(article_title)\n",
    "            description = article.find(\"div\", class_ = \"article_teaser_body\")\n",
    "            article_description = description.text.strip()\n",
    "            print(article_description)\n",
    "    print(\"____________\")\n",
    "    article[\"Title\"] = article_title\n",
    "    article[\"Link URL\"] = article_url\n",
    "    article[\"Description\"] = description\n",
    "    return article\n",
    "            "
   ]
  },
  {
   "cell_type": "code",
   "execution_count": 11,
   "metadata": {
    "ExecuteTime": {
     "end_time": "2019-11-17T07:03:10.422431Z",
     "start_time": "2019-11-17T07:03:10.416479Z"
    }
   },
   "outputs": [],
   "source": [
    "def get_post(site):\n",
    "    post = {}\n",
    "    post.update({\"Site\":site[\"Name\"]})\n",
    "    url = site[\"URL\"]\n",
    "    post[\"Site URL\"] = url\n",
    "    site_type = site[\"Type\"]\n",
    "    post[\"Site Type\"] = site_type\n",
    "    if site['Type'] == \"News\":\n",
    "        details = scrape_news(site)\n",
    "        post[\"Detail\"] = details[\"Title\"]\n",
    "        post[\"Detail URL\"] = details[\"Link URL\"]\n",
    "        post[\"Detail Description\"] = details[\"Description\"]\n",
    "    return post"
   ]
  },
  {
   "cell_type": "code",
   "execution_count": 12,
   "metadata": {
    "ExecuteTime": {
     "end_time": "2019-11-17T07:03:25.042901Z",
     "start_time": "2019-11-17T07:03:13.804260Z"
    }
   },
   "outputs": [
    {
     "name": "stdout",
     "output_type": "stream",
     "text": [
      "News Article\n",
      "____________\n",
      "2019-11-15 00:00:00\n",
      "https://mars.nasa.gov/news/8551/mars-scientists-investigate-ancient-life-in-australia/\n",
      "Mars Scientists Investigate Ancient Life in Australia\n",
      "Teams with NASA's Mars 2020 and ESA's ExoMars practiced hunting for fossilized microbial life in the Australian Outback in preparation for their Red Planet missions.\n",
      "____________\n",
      "{'Site': 'NASA Mars Explorer News', 'Site URL': 'https://mars.nasa.gov/news/?page=0&per_page=40&order=publish_date+desc%2Ccreated_at+desc&search=&category=19%2C165%2C184%2C204&blank_scope=Latest', 'Site Type': 'News', 'Detail': 'Mars Scientists Investigate Ancient Life in Australia', 'Detail URL': 'https://mars.nasa.gov/news/8551/mars-scientists-investigate-ancient-life-in-australia/', 'Detail Description': <div class=\"article_teaser_body\">Teams with NASA's Mars 2020 and ESA's ExoMars practiced hunting for fossilized microbial life in the Australian Outback in preparation for their Red Planet missions. </div>}\n"
     ]
    }
   ],
   "source": [
    "site = mars_sites[0]\n",
    "post = get_post(site)\n",
    "print(post)"
   ]
  },
  {
   "cell_type": "code",
   "execution_count": null,
   "metadata": {
    "scrolled": true
   },
   "outputs": [],
   "source": [
    "# Initialize PyMongo to work with MongoDBs\n",
    "conn = 'mongodb://localhost:27017'\n",
    "client = pymongo.MongoClient(conn)\n",
    "db = client.mars_db\n",
    "collection = db.items\n",
    "for site in mars_sites:\n",
    "    response = requests.get(site[\"URL\"])\n",
    "    soup = BeautifulSoup(response.text, 'lxml')\n",
    "    results = soup.find_all('li', class_=site[\"Class\"])\n",
    "    for result in results:\n",
    "        "
   ]
  }
 ],
 "metadata": {
  "kernelspec": {
   "display_name": "Python 3",
   "language": "python",
   "name": "python3"
  },
  "language_info": {
   "codemirror_mode": {
    "name": "ipython",
    "version": 3
   },
   "file_extension": ".py",
   "mimetype": "text/x-python",
   "name": "python",
   "nbconvert_exporter": "python",
   "pygments_lexer": "ipython3",
   "version": "3.7.3"
  },
  "varInspector": {
   "cols": {
    "lenName": 16,
    "lenType": 16,
    "lenVar": 40
   },
   "kernels_config": {
    "python": {
     "delete_cmd_postfix": "",
     "delete_cmd_prefix": "del ",
     "library": "var_list.py",
     "varRefreshCmd": "print(var_dic_list())"
    },
    "r": {
     "delete_cmd_postfix": ") ",
     "delete_cmd_prefix": "rm(",
     "library": "var_list.r",
     "varRefreshCmd": "cat(var_dic_list()) "
    }
   },
   "types_to_exclude": [
    "module",
    "function",
    "builtin_function_or_method",
    "instance",
    "_Feature"
   ],
   "window_display": false
  }
 },
 "nbformat": 4,
 "nbformat_minor": 2
}
