{
 "cells": [
  {
   "cell_type": "code",
   "execution_count": 137,
   "metadata": {
    "ExecuteTime": {
     "end_time": "2019-11-17T19:52:35.587098Z",
     "start_time": "2019-11-17T19:52:35.583132Z"
    },
    "scrolled": false
   },
   "outputs": [],
   "source": [
    "# Dependencies\n",
    "from splinter import Browser\n",
    "from bs4 import BeautifulSoup\n",
    "import requests\n",
    "import pymongo\n",
    "import pandas as pd\n",
    "from datetime import datetime\n",
    "import config as cfg\n",
    "import tweepy as tw\n",
    "import json"
   ]
  },
  {
   "cell_type": "code",
   "execution_count": 44,
   "metadata": {
    "ExecuteTime": {
     "end_time": "2019-11-17T17:36:35.717420Z",
     "start_time": "2019-11-17T17:36:35.711435Z"
    },
    "scrolled": false
   },
   "outputs": [],
   "source": [
    "# Constants\n",
    "chrome_path = \"C:/Users/janin/OneDrive/Documents/GitHub/chromedriver.exe\"\n",
    "mars_sites = [{\"Name\":\"NASA Mars Explorer News\",\n",
    "               \"URL\":\"https://mars.nasa.gov/news/?page=0&per_page=40&order=publish_date+desc%2Ccreated_at+desc&search=&category=19%2C165%2C184%2C204&blank_scope=Latest\",\n",
    "               \"Type\":\"News\",\n",
    "               \"Link Stem\":\"https://mars.nasa.gov\"\n",
    "              },\n",
    "              {\"Name\":\"JPL Mars Images\",\n",
    "               \"URL\":\"https://www.jpl.nasa.gov/spaceimages/?search=&category=Mars\",\n",
    "               \"Type\":\"Featured Image\",\n",
    "               \"Link Stem\":\"https://www.jpl.nasa.gov\"\n",
    "              },\n",
    "              {\"Name\":\"Mars Weather\",\n",
    "               \"URL\":\"https://twitter.com/marswxreport?lang=en\",\n",
    "               \"Type\":\"Weather\"\n",
    "              },\n",
    "              {\"Name\":\"Mars Facts\",\n",
    "               \"URL\":\"https://space-facts.com/mars/\",\n",
    "               \"Type\":\"Facts\"\n",
    "              },\n",
    "              {\"Name\":\"Mars Hemispheres\",\n",
    "               \"URL\":\"https://astrogeology.usgs.gov/search/results?q=hemisphere+enhanced&k1=target&v1=Mars\",\n",
    "               \"Type\":\"Hemispheres\"\n",
    "              }]"
   ]
  },
  {
   "cell_type": "code",
   "execution_count": 45,
   "metadata": {
    "ExecuteTime": {
     "end_time": "2019-11-17T17:36:36.368208Z",
     "start_time": "2019-11-17T17:36:36.364046Z"
    },
    "scrolled": true
   },
   "outputs": [],
   "source": [
    "def init_browser():\n",
    "    executable_path = {\"executable_path\": chrome_path}\n",
    "    return Browser(\"chrome\", **executable_path, headless=False)"
   ]
  },
  {
   "cell_type": "code",
   "execution_count": 46,
   "metadata": {
    "ExecuteTime": {
     "end_time": "2019-11-17T17:36:37.099492Z",
     "start_time": "2019-11-17T17:36:37.095997Z"
    },
    "scrolled": true
   },
   "outputs": [],
   "source": [
    "def get_page(url):\n",
    "    browser = init_browser()\n",
    "    browser.visit(url)\n",
    "    html = browser.html\n",
    "    return BeautifulSoup(html, \"html.parser\")"
   ]
  },
  {
   "cell_type": "code",
   "execution_count": 47,
   "metadata": {
    "ExecuteTime": {
     "end_time": "2019-11-17T17:36:37.935622Z",
     "start_time": "2019-11-17T17:36:37.928470Z"
    },
    "scrolled": true
   },
   "outputs": [],
   "source": [
    "def scrape_news(site):\n",
    "    print(\"News Article\")\n",
    "    print(\"____________\")\n",
    "    soup = get_page(site['URL'])\n",
    "    article = {}\n",
    "    articles = soup.find_all(\"div\",class_ = \"list_text\")\n",
    "    latest_date = datetime(2000, 1, 1, 0, 0)\n",
    "    article_url = \"\"\n",
    "    article_title = \"\"\n",
    "    description = \"\"\n",
    "    for article in articles:\n",
    "        date_text = article.find(\"div\",class_=\"list_date\").text\n",
    "        article_date = datetime.strptime(date_text,'%B %d, %Y')\n",
    "        if article_date > latest_date:\n",
    "            latest_date = article_date\n",
    "            print(article_date)\n",
    "            article_link = article.find(\"div\",class_=\"content_title\")\n",
    "            article_url = f\"{site['Link Stem']}{article_link.a['href']}\"\n",
    "            print(article_url)\n",
    "            article_title = article_link.a.text.replace('\\n','').strip()\n",
    "            print(article_title)\n",
    "            description = article.find(\"div\", class_ = \"article_teaser_body\")\n",
    "            article_description = description.text.strip()\n",
    "            print(article_description)\n",
    "    print(\"____________\")\n",
    "    article[\"Detail\"] = article_title\n",
    "    article[\"Detail URL\"] = article_url\n",
    "    article[\"Detail Description\"] = article_description\n",
    "    return article\n",
    "            "
   ]
  },
  {
   "cell_type": "code",
   "execution_count": 48,
   "metadata": {
    "ExecuteTime": {
     "end_time": "2019-11-17T17:36:38.809615Z",
     "start_time": "2019-11-17T17:36:38.805643Z"
    },
    "scrolled": true
   },
   "outputs": [],
   "source": [
    "def scrape_featured_image(site):\n",
    "    print(\"Featured Image\")\n",
    "    print(\"____________\")\n",
    "    soup = get_page(site['URL'])\n",
    "    article = {}\n",
    "    image = soup.find(\"article\",class_=\"carousel_item\")\n",
    "    print(image[\"alt\"])\n",
    "    image_style = image[\"style\"]\n",
    "    image_link = image_style[image_style.find(\"'\")+1:]\n",
    "    image_link = image_link[:image_link.find(\"'\")]\n",
    "    print(image_link)\n",
    "    article[\"Detail\"] = image[\"alt\"]\n",
    "    article[\"Detail URL\"] = f\"{site['Link Stem']}{image_link}\"\n",
    "    article[\"Detail Description\"] = \"Jet Propulsion Laboratory Featured Image\"\n",
    "    return article"
   ]
  },
  {
   "cell_type": "code",
   "execution_count": 156,
   "metadata": {
    "ExecuteTime": {
     "end_time": "2019-11-17T20:05:28.463172Z",
     "start_time": "2019-11-17T20:05:28.454194Z"
    },
    "scrolled": true
   },
   "outputs": [],
   "source": [
    "def get_Mars_weather():\n",
    "    print(\"Mars Weather\")\n",
    "    print(\"____________\")\n",
    "    # Use API to get latest Mars Weather tweet\n",
    "    consumer_key = cfg.Twitter_Consumer_API_Key\n",
    "    consumer_secret = cfg.Twitter_Consumer_Secret_API_Key\n",
    "    access_token = cfg.Twitter_Access_Token\n",
    "    access_token_secret = cfg.Twitter_Access_Token_Secret\n",
    "    auth = tw.OAuthHandler(consumer_key, consumer_secret)\n",
    "    auth.set_access_token(access_token, access_token_secret) \n",
    "    api = tw.API(auth)\n",
    "    status = api.user_timeline(\"MarsWxReport\",count=1,page=1)\n",
    "    #json_str = json.dumps(status[0]._json)\n",
    "    #parsed = json.loads(json_str)\n",
    "    #print(json.dumps(parsed, indent=4, sort_keys=True))\n",
    "    last_tweet_url = status[0].entities.urls[0].expanded_url\n",
    "    print(last_tweet_url)\n",
    "    # Scrape text of latest tweet\n",
    "    \n",
    "    article = {}\n",
    "    article[\"Detail\"] = status[0].full_text\n",
    "    article[\"Detail URL\"] = last_tweet_url\n",
    "    article[\"Detail Description\"] = \"Mars Weather Tweet\"\n",
    "    return article"
   ]
  },
  {
   "cell_type": "code",
   "execution_count": 157,
   "metadata": {
    "ExecuteTime": {
     "end_time": "2019-11-17T20:05:29.033074Z",
     "start_time": "2019-11-17T20:05:29.027401Z"
    },
    "scrolled": true
   },
   "outputs": [],
   "source": [
    "def get_post(site):\n",
    "    post = {}\n",
    "    post.update({\"Site\":site[\"Name\"]})\n",
    "    url = site[\"URL\"]\n",
    "    post[\"Site URL\"] = url\n",
    "    site_type = site[\"Type\"]\n",
    "    post[\"Site Type\"] = site_type\n",
    "    details = {}\n",
    "    if site['Type'] == \"News\":\n",
    "        details = scrape_news(site)\n",
    "    elif site['Type'] == \"Featured Image\":\n",
    "        details = scrape_featured_image(site)\n",
    "    elif site['Type'] == \"Weather\":\n",
    "        details = get_Mars_weather()\n",
    "    post[\"Detail\"] = details[\"Detail\"]\n",
    "    post[\"Detail URL\"] = details[\"Detail URL\"]\n",
    "    post[\"Detail Description\"] = details[\"Detail Description\"]\n",
    "    return post"
   ]
  },
  {
   "cell_type": "code",
   "execution_count": 158,
   "metadata": {
    "ExecuteTime": {
     "end_time": "2019-11-17T20:05:30.035448Z",
     "start_time": "2019-11-17T20:05:29.782406Z"
    },
    "scrolled": false
   },
   "outputs": [
    {
     "name": "stdout",
     "output_type": "stream",
     "text": [
      "searching for Mars weather\n",
      "{\n",
      "    \"contributors\": null,\n",
      "    \"coordinates\": null,\n",
      "    \"created_at\": \"Sun Nov 17 13:51:11 +0000 2019\",\n",
      "    \"entities\": {\n",
      "        \"hashtags\": [],\n",
      "        \"symbols\": [],\n",
      "        \"urls\": [\n",
      "            {\n",
      "                \"display_url\": \"twitter.com/i/web/status/1\\u2026\",\n",
      "                \"expanded_url\": \"https://twitter.com/i/web/status/1196063234924699649\",\n",
      "                \"indices\": [\n",
      "                    117,\n",
      "                    140\n",
      "                ],\n",
      "                \"url\": \"https://t.co/QTSThT3d8r\"\n",
      "            }\n",
      "        ],\n",
      "        \"user_mentions\": []\n",
      "    },\n",
      "    \"favorite_count\": 11,\n",
      "    \"favorited\": false,\n",
      "    \"geo\": null,\n",
      "    \"id\": 1196063234924699649,\n",
      "    \"id_str\": \"1196063234924699649\",\n",
      "    \"in_reply_to_screen_name\": null,\n",
      "    \"in_reply_to_status_id\": null,\n",
      "    \"in_reply_to_status_id_str\": null,\n",
      "    \"in_reply_to_user_id\": null,\n",
      "    \"in_reply_to_user_id_str\": null,\n",
      "    \"is_quote_status\": false,\n",
      "    \"lang\": \"en\",\n",
      "    \"place\": null,\n",
      "    \"possibly_sensitive\": false,\n",
      "    \"retweet_count\": 7,\n",
      "    \"retweeted\": false,\n",
      "    \"source\": \"<a href=\\\"http://utprosim.com\\\" rel=\\\"nofollow\\\">Daily Weather Report</a>\",\n",
      "    \"text\": \"InSight sol 345 (2019-11-15) low -100.4\\u00baC (-148.6\\u00baF) high -23.9\\u00baC (-11.1\\u00baF)\\nwinds from the SSE at 5.4 m/s (12.0 mph\\u2026 https://t.co/QTSThT3d8r\",\n",
      "    \"truncated\": true,\n",
      "    \"user\": {\n",
      "        \"can_media_tag\": true,\n",
      "        \"contributors_enabled\": false,\n",
      "        \"created_at\": \"Tue Aug 28 12:48:50 +0000 2012\",\n",
      "        \"default_profile\": false,\n",
      "        \"default_profile_image\": false,\n",
      "        \"description\": \"Updates as avail from the REMS weather instrument aboard @MarsCuriosity.  Data credit: Centro deAstrobiologia, FMI, JPL/NASA, Not an official acct.\",\n",
      "        \"entities\": {\n",
      "            \"description\": {\n",
      "                \"urls\": []\n",
      "            },\n",
      "            \"url\": {\n",
      "                \"urls\": [\n",
      "                    {\n",
      "                        \"display_url\": \"mars.nasa.gov/news/8415/insi\\u2026\",\n",
      "                        \"expanded_url\": \"https://mars.nasa.gov/news/8415/insight-is-the-newest-mars-weather-service/\",\n",
      "                        \"indices\": [\n",
      "                            0,\n",
      "                            23\n",
      "                        ],\n",
      "                        \"url\": \"https://t.co/0PMWfPs8cw\"\n",
      "                    }\n",
      "                ]\n",
      "            }\n",
      "        },\n",
      "        \"favourites_count\": 322,\n",
      "        \"follow_request_sent\": false,\n",
      "        \"followed_by\": false,\n",
      "        \"followers_count\": 56225,\n",
      "        \"following\": true,\n",
      "        \"friends_count\": 47,\n",
      "        \"geo_enabled\": true,\n",
      "        \"has_extended_profile\": false,\n",
      "        \"id\": 786939553,\n",
      "        \"id_str\": \"786939553\",\n",
      "        \"is_translation_enabled\": false,\n",
      "        \"is_translator\": false,\n",
      "        \"lang\": null,\n",
      "        \"listed_count\": 357,\n",
      "        \"location\": \"Gale Crater, Mars\",\n",
      "        \"name\": \"Mars Weather\",\n",
      "        \"notifications\": false,\n",
      "        \"profile_background_color\": \"C0DEED\",\n",
      "        \"profile_background_image_url\": \"http://abs.twimg.com/images/themes/theme1/bg.png\",\n",
      "        \"profile_background_image_url_https\": \"https://abs.twimg.com/images/themes/theme1/bg.png\",\n",
      "        \"profile_background_tile\": false,\n",
      "        \"profile_banner_url\": \"https://pbs.twimg.com/profile_banners/786939553/1550640093\",\n",
      "        \"profile_image_url\": \"http://pbs.twimg.com/profile_images/2552209293/220px-Mars_atmosphere_normal.jpg\",\n",
      "        \"profile_image_url_https\": \"https://pbs.twimg.com/profile_images/2552209293/220px-Mars_atmosphere_normal.jpg\",\n",
      "        \"profile_link_color\": \"0084B4\",\n",
      "        \"profile_sidebar_border_color\": \"FFFFFF\",\n",
      "        \"profile_sidebar_fill_color\": \"DDEEF6\",\n",
      "        \"profile_text_color\": \"333333\",\n",
      "        \"profile_use_background_image\": true,\n",
      "        \"protected\": false,\n",
      "        \"screen_name\": \"MarsWxReport\",\n",
      "        \"statuses_count\": 2006,\n",
      "        \"time_zone\": null,\n",
      "        \"translator_type\": \"none\",\n",
      "        \"url\": \"https://t.co/0PMWfPs8cw\",\n",
      "        \"utc_offset\": null,\n",
      "        \"verified\": false\n",
      "    }\n",
      "}\n"
     ]
    },
    {
     "ename": "AttributeError",
     "evalue": "'Status' object has no attribute 'full_text'",
     "output_type": "error",
     "traceback": [
      "\u001b[1;31m---------------------------------------------------------------------------\u001b[0m",
      "\u001b[1;31mAttributeError\u001b[0m                            Traceback (most recent call last)",
      "\u001b[1;32m<ipython-input-158-c73b40047fb4>\u001b[0m in \u001b[0;36m<module>\u001b[1;34m\u001b[0m\n\u001b[0;32m      1\u001b[0m \u001b[0msite\u001b[0m \u001b[1;33m=\u001b[0m \u001b[0mmars_sites\u001b[0m\u001b[1;33m[\u001b[0m\u001b[1;36m2\u001b[0m\u001b[1;33m]\u001b[0m\u001b[1;33m\u001b[0m\u001b[1;33m\u001b[0m\u001b[0m\n\u001b[1;32m----> 2\u001b[1;33m \u001b[0mpost\u001b[0m \u001b[1;33m=\u001b[0m \u001b[0mget_post\u001b[0m\u001b[1;33m(\u001b[0m\u001b[0msite\u001b[0m\u001b[1;33m)\u001b[0m\u001b[1;33m\u001b[0m\u001b[1;33m\u001b[0m\u001b[0m\n\u001b[0m\u001b[0;32m      3\u001b[0m \u001b[0mprint\u001b[0m\u001b[1;33m(\u001b[0m\u001b[0mpost\u001b[0m\u001b[1;33m)\u001b[0m\u001b[1;33m\u001b[0m\u001b[1;33m\u001b[0m\u001b[0m\n\u001b[0;32m      4\u001b[0m \u001b[0mprint\u001b[0m\u001b[1;33m(\u001b[0m\u001b[1;33m)\u001b[0m\u001b[1;33m\u001b[0m\u001b[1;33m\u001b[0m\u001b[0m\n",
      "\u001b[1;32m<ipython-input-157-38734dce34c1>\u001b[0m in \u001b[0;36mget_post\u001b[1;34m(site)\u001b[0m\n\u001b[0;32m     12\u001b[0m         \u001b[0mdetails\u001b[0m \u001b[1;33m=\u001b[0m \u001b[0mscrape_featured_image\u001b[0m\u001b[1;33m(\u001b[0m\u001b[0msite\u001b[0m\u001b[1;33m)\u001b[0m\u001b[1;33m\u001b[0m\u001b[1;33m\u001b[0m\u001b[0m\n\u001b[0;32m     13\u001b[0m     \u001b[1;32melif\u001b[0m \u001b[0msite\u001b[0m\u001b[1;33m[\u001b[0m\u001b[1;34m'Type'\u001b[0m\u001b[1;33m]\u001b[0m \u001b[1;33m==\u001b[0m \u001b[1;34m\"Weather\"\u001b[0m\u001b[1;33m:\u001b[0m\u001b[1;33m\u001b[0m\u001b[1;33m\u001b[0m\u001b[0m\n\u001b[1;32m---> 14\u001b[1;33m         \u001b[0mdetails\u001b[0m \u001b[1;33m=\u001b[0m \u001b[0mget_Mars_weather\u001b[0m\u001b[1;33m(\u001b[0m\u001b[1;33m)\u001b[0m\u001b[1;33m\u001b[0m\u001b[1;33m\u001b[0m\u001b[0m\n\u001b[0m\u001b[0;32m     15\u001b[0m     \u001b[0mpost\u001b[0m\u001b[1;33m[\u001b[0m\u001b[1;34m\"Detail\"\u001b[0m\u001b[1;33m]\u001b[0m \u001b[1;33m=\u001b[0m \u001b[0mdetails\u001b[0m\u001b[1;33m[\u001b[0m\u001b[1;34m\"Detail\"\u001b[0m\u001b[1;33m]\u001b[0m\u001b[1;33m\u001b[0m\u001b[1;33m\u001b[0m\u001b[0m\n\u001b[0;32m     16\u001b[0m     \u001b[0mpost\u001b[0m\u001b[1;33m[\u001b[0m\u001b[1;34m\"Detail URL\"\u001b[0m\u001b[1;33m]\u001b[0m \u001b[1;33m=\u001b[0m \u001b[0mdetails\u001b[0m\u001b[1;33m[\u001b[0m\u001b[1;34m\"Detail URL\"\u001b[0m\u001b[1;33m]\u001b[0m\u001b[1;33m\u001b[0m\u001b[1;33m\u001b[0m\u001b[0m\n",
      "\u001b[1;32m<ipython-input-156-0e8f0085c2f7>\u001b[0m in \u001b[0;36mget_Mars_weather\u001b[1;34m()\u001b[0m\n\u001b[0;32m     16\u001b[0m     \u001b[0mprint\u001b[0m\u001b[1;33m(\u001b[0m\u001b[0mjson\u001b[0m\u001b[1;33m.\u001b[0m\u001b[0mdumps\u001b[0m\u001b[1;33m(\u001b[0m\u001b[0mparsed\u001b[0m\u001b[1;33m,\u001b[0m \u001b[0mindent\u001b[0m\u001b[1;33m=\u001b[0m\u001b[1;36m4\u001b[0m\u001b[1;33m,\u001b[0m \u001b[0msort_keys\u001b[0m\u001b[1;33m=\u001b[0m\u001b[1;32mTrue\u001b[0m\u001b[1;33m)\u001b[0m\u001b[1;33m)\u001b[0m\u001b[1;33m\u001b[0m\u001b[1;33m\u001b[0m\u001b[0m\n\u001b[0;32m     17\u001b[0m     \u001b[0marticle\u001b[0m \u001b[1;33m=\u001b[0m \u001b[1;33m{\u001b[0m\u001b[1;33m}\u001b[0m\u001b[1;33m\u001b[0m\u001b[1;33m\u001b[0m\u001b[0m\n\u001b[1;32m---> 18\u001b[1;33m     \u001b[0marticle\u001b[0m\u001b[1;33m[\u001b[0m\u001b[1;34m\"Detail\"\u001b[0m\u001b[1;33m]\u001b[0m \u001b[1;33m=\u001b[0m \u001b[0mstatus\u001b[0m\u001b[1;33m[\u001b[0m\u001b[1;36m0\u001b[0m\u001b[1;33m]\u001b[0m\u001b[1;33m.\u001b[0m\u001b[0mfull_text\u001b[0m\u001b[1;33m\u001b[0m\u001b[1;33m\u001b[0m\u001b[0m\n\u001b[0m\u001b[0;32m     19\u001b[0m     \u001b[0marticle\u001b[0m\u001b[1;33m[\u001b[0m\u001b[1;34m\"Detail URL\"\u001b[0m\u001b[1;33m]\u001b[0m \u001b[1;33m=\u001b[0m \u001b[0mstatus\u001b[0m\u001b[1;33m[\u001b[0m\u001b[1;36m0\u001b[0m\u001b[1;33m]\u001b[0m\u001b[1;33m.\u001b[0m\u001b[0murls\u001b[0m\u001b[1;33m[\u001b[0m\u001b[1;36m0\u001b[0m\u001b[1;33m]\u001b[0m\u001b[1;33m.\u001b[0m\u001b[0mexpanded_url\u001b[0m\u001b[1;33m\u001b[0m\u001b[1;33m\u001b[0m\u001b[0m\n\u001b[0;32m     20\u001b[0m     \u001b[0marticle\u001b[0m\u001b[1;33m[\u001b[0m\u001b[1;34m\"Detail Description\"\u001b[0m\u001b[1;33m]\u001b[0m \u001b[1;33m=\u001b[0m \u001b[1;34m\"Mars Weather Tweet\"\u001b[0m\u001b[1;33m\u001b[0m\u001b[1;33m\u001b[0m\u001b[0m\n",
      "\u001b[1;31mAttributeError\u001b[0m: 'Status' object has no attribute 'full_text'"
     ]
    }
   ],
   "source": [
    "site = mars_sites[2]\n",
    "post = get_post(site)\n",
    "print(post)\n",
    "print()"
   ]
  },
  {
   "cell_type": "code",
   "execution_count": null,
   "metadata": {
    "scrolled": false
   },
   "outputs": [],
   "source": [
    "# Initialize PyMongo to work with MongoDBs\n",
    "conn = 'mongodb://localhost:27017'\n",
    "client = pymongo.MongoClient(conn)\n",
    "db = client.mars_db\n",
    "collection = db.items\n",
    "for site in mars_sites:\n",
    "    response = requests.get(site[\"URL\"])\n",
    "    soup = BeautifulSoup(response.text, 'lxml')\n",
    "    results = soup.find_all('li', class_=site[\"Class\"])\n",
    "    for result in results:\n",
    "        "
   ]
  }
 ],
 "metadata": {
  "kernelspec": {
   "display_name": "Python 3",
   "language": "python",
   "name": "python3"
  },
  "language_info": {
   "codemirror_mode": {
    "name": "ipython",
    "version": 3
   },
   "file_extension": ".py",
   "mimetype": "text/x-python",
   "name": "python",
   "nbconvert_exporter": "python",
   "pygments_lexer": "ipython3",
   "version": "3.7.3"
  },
  "varInspector": {
   "cols": {
    "lenName": 16,
    "lenType": 16,
    "lenVar": 40
   },
   "kernels_config": {
    "python": {
     "delete_cmd_postfix": "",
     "delete_cmd_prefix": "del ",
     "library": "var_list.py",
     "varRefreshCmd": "print(var_dic_list())"
    },
    "r": {
     "delete_cmd_postfix": ") ",
     "delete_cmd_prefix": "rm(",
     "library": "var_list.r",
     "varRefreshCmd": "cat(var_dic_list()) "
    }
   },
   "types_to_exclude": [
    "module",
    "function",
    "builtin_function_or_method",
    "instance",
    "_Feature"
   ],
   "window_display": false
  }
 },
 "nbformat": 4,
 "nbformat_minor": 2
}
